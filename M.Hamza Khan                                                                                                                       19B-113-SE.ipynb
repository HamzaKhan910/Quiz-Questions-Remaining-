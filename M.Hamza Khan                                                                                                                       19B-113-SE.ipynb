{
 "cells": [
  {
   "cell_type": "markdown",
   "metadata": {},
   "source": [
    "# Asst.Prof.Syed Faisal Ali Programming Fundamentals-Fall 2019 Software Engineering Dated:29/11/2019"
   ]
  },
  {
   "cell_type": "markdown",
   "metadata": {},
   "source": [
    "\n",
    "Question 1: Create a function to find the following: If the base of triangle is 3 cm long and its equilateral triangle and the radius of circle is 1.5 cm then find the area of triangle shaded."
   ]
  },
  {
   "cell_type": "code",
   "execution_count": 3,
   "metadata": {},
   "outputs": [
    {
     "name": "stdout",
     "output_type": "stream",
     "text": [
      "2.25\n"
     ]
    }
   ],
   "source": [
    "def area(b,r):\n",
    "    h=b*r/2\n",
    "    return h\n",
    "print(area(3,1.5))"
   ]
  },
  {
   "cell_type": "markdown",
   "metadata": {},
   "source": [
    "Question 2: Create a function which can read a dictionary of your family members such as 5 members. 1 Abbu, 1 Ammi, 2 Brothers 1 Sister. Now feed this data in dictionary in terms of name and relations. The UDF will ask findrelation() in this you will enter Brother it will return the names of two brothers you have inserted. In case if the relation is not found it will return “Sorry the relation doesn’t exist in your family.”"
   ]
  },
  {
   "cell_type": "code",
   "execution_count": 5,
   "metadata": {},
   "outputs": [
    {
     "name": "stdout",
     "output_type": "stream",
     "text": [
      "hamza, huzaifa\n"
     ]
    }
   ],
   "source": [
    "def findrelation(d):\n",
    "    dict = {'father':'wasim' , 'brother':'hamza, huzaifa' , 'sister':'khizra' , 'mother':'tanzila'}\n",
    "    a = dict[d]\n",
    "    return a\n",
    "print(findrelation('brother'))"
   ]
  },
  {
   "cell_type": "markdown",
   "metadata": {},
   "source": [
    "Question 3: Create a function to find the following: If the base of triangle is 5 cm long and its equilateral triangle and the radius of circle is 2.25 cm then find the area of triangle shaded."
   ]
  },
  {
   "cell_type": "code",
   "execution_count": 8,
   "metadata": {},
   "outputs": [
    {
     "name": "stdout",
     "output_type": "stream",
     "text": [
      "10.825317547305483\n"
     ]
    }
   ],
   "source": [
    "import math\n",
    "def function(b):\n",
    "    h=b**2*((math.sqrt(3))/4)\n",
    "    return(h)\n",
    "print(function(5))"
   ]
  },
  {
   "cell_type": "markdown",
   "metadata": {},
   "source": [
    "Question 4: Create a function that takes a list of random numbers from users and add only those which are even. If all the numbers are odd it will return sorry no even number found."
   ]
  },
  {
   "cell_type": "code",
   "execution_count": 9,
   "metadata": {},
   "outputs": [
    {
     "name": "stdout",
     "output_type": "stream",
     "text": [
      "No even found!\n",
      "2\n",
      "sum of even no: 2\n",
      "4\n",
      "sum of even no: 6\n",
      "No even found!\n",
      "6\n",
      "sum of even no: 12\n",
      "No even found!\n",
      "8\n",
      "sum of even no: 20\n",
      "10\n",
      "sum of even no: 30\n",
      "None\n"
     ]
    }
   ],
   "source": [
    "def ev(l):\n",
    "    s=0\n",
    "    for i in l:\n",
    "        if i%2==0:\n",
    "            print(i)\n",
    "            s = s+i\n",
    "            print(\"sum of even no:\",s)\n",
    "        else:\n",
    "            print(\"No even found!\")\n",
    "print(ev([1,2,4,5,6,7,8,10]))"
   ]
  },
  {
   "cell_type": "markdown",
   "metadata": {},
   "source": [
    "Question 5: Write a function which can take a list of numbers and it will return sorted list."
   ]
  },
  {
   "cell_type": "code",
   "execution_count": 10,
   "metadata": {},
   "outputs": [
    {
     "name": "stdout",
     "output_type": "stream",
     "text": [
      "['3', '4', '5', '8']\n"
     ]
    }
   ],
   "source": [
    "def function(l):\n",
    "    return sorted(l)\n",
    "print (function(['8','5','4','3']))"
   ]
  },
  {
   "cell_type": "markdown",
   "metadata": {},
   "source": [
    "Question 6: Write a function that will take the radius and return the perimeter and area of circle with 5% increment."
   ]
  },
  {
   "cell_type": "code",
   "execution_count": 11,
   "metadata": {},
   "outputs": [
    {
     "name": "stdout",
     "output_type": "stream",
     "text": [
      "Perimeter 37.69911184307752\n",
      "Area of Circle: 118.75220230569418\n",
      "\n"
     ]
    }
   ],
   "source": [
    "from math import pi\n",
    "def area_circle(r):\n",
    "    area=pi*(r**2)\n",
    "    a = area+(area*0.05)\n",
    "    print(\"Perimeter\",2*pi*r)\n",
    "    print(\"Area of Circle:\",a)\n",
    "    return \"\"\n",
    "print(area_circle(6))"
   ]
  },
  {
   "cell_type": "markdown",
   "metadata": {},
   "source": [
    "Question 7: Write a function that will take the strings as argument and return number of vowels and consonants."
   ]
  },
  {
   "cell_type": "code",
   "execution_count": 14,
   "metadata": {},
   "outputs": [
    {
     "name": "stdout",
     "output_type": "stream",
     "text": [
      "Hamza is a Consonant\n",
      "None\n"
     ]
    }
   ],
   "source": [
    "#A\n",
    "\n",
    "def function(ch):\n",
    "    if(ch in 'A' or ch in 'a' or ch in 'E' or ch in 'e' or ch in 'I' or ch in 'i' or ch in 'O' or ch in 'o' or ch in 'U' or ch in 'u'):\n",
    "        print(ch, \"is a Vowel\")\n",
    "    else:\n",
    "        print(ch, \"is a Consonant\")\n",
    "        \n",
    "print(function('Hamza'))    "
   ]
  },
  {
   "cell_type": "markdown",
   "metadata": {},
   "source": [
    "  Question 8: Write a function that will take length and breadth for a rectangle and return perimeter and area of rectangle with 8% increment."
   ]
  },
  {
   "cell_type": "code",
   "execution_count": 24,
   "metadata": {},
   "outputs": [
    {
     "name": "stdout",
     "output_type": "stream",
     "text": [
      "area of rectangle: 37.8\n",
      "perimeter: 24\n"
     ]
    }
   ],
   "source": [
    "from math import pi\n",
    "def rec(l,b):\n",
    "    area=l*b\n",
    "    a=area+(area*0.08)\n",
    "    print(\"area of rectangle:\",a)\n",
    "    print(\"perimeter:\",2*(l+b))\n",
    "rec(5,7)    "
   ]
  },
  {
   "cell_type": "markdown",
   "metadata": {},
   "source": [
    "Question 9: Write a function that can take the numbers in strings. From string find which number is even and which one is odd. Save them in two different lists and generate the result."
   ]
  },
  {
   "cell_type": "code",
   "execution_count": 26,
   "metadata": {},
   "outputs": [
    {
     "name": "stdout",
     "output_type": "stream",
     "text": [
      "Numbers of Even : 4\n",
      "Numbers of odd: 4\n",
      "List of even: ['2', '4', '6', '8']\n",
      "List of odd: ['1', '3', '5', '7']\n"
     ]
    }
   ],
   "source": [
    "a = \"12345678\"\n",
    "b = 0\n",
    "c = 0\n",
    "ab = []\n",
    "cd = []\n",
    "for i in a:\n",
    "    if int(i)%2==0:\n",
    "        b += 1\n",
    "        ab.append(i)\n",
    "    else:\n",
    "        c += 1\n",
    "        cd.append(i)\n",
    "print('Numbers of Even :',b)\n",
    "print('Numbers of odd:',c)\n",
    "print(\"List of even:\",ab)\n",
    "print(\"List of odd:\",cd)"
   ]
  },
  {
   "cell_type": "markdown",
   "metadata": {},
   "source": [
    "Question 10: Write a function which will take the string from the user and return how many alphabets have been used in it and which alphabets are missing."
   ]
  },
  {
   "cell_type": "code",
   "execution_count": 27,
   "metadata": {},
   "outputs": [
    {
     "name": "stdout",
     "output_type": "stream",
     "text": [
      "3\n",
      "abcdefhjklmopqrstuvwxyz\n"
     ]
    }
   ],
   "source": [
    "s = 'King'\n",
    "n = 0\n",
    "az = 'abcdefghijklmnopqrstuvwxyz'\n",
    "for i in s:\n",
    "    if i in az:\n",
    "        az = az.replace(i,\"\")\n",
    "        n += 1\n",
    "print(n)\n",
    "#\n",
    "print(az)"
   ]
  },
  {
   "cell_type": "markdown",
   "metadata": {},
   "source": [
    "Question 11: Write a function that will take verbs in words and return a list of verbs with continuous tense by adding (ing) at the end of each verb."
   ]
  },
  {
   "cell_type": "code",
   "execution_count": 29,
   "metadata": {},
   "outputs": [
    {
     "name": "stdout",
     "output_type": "stream",
     "text": [
      "verb eating\n"
     ]
    }
   ],
   "source": [
    "def verb(s):\n",
    "    if s[-1] == 'e':\n",
    "        s = s.replace(s[-1],\"\")\n",
    "        print(\"verb\",s+\"ing\")\n",
    "    else:\n",
    "        print(\"verb\",s+\"ing\")\n",
    "verb('eat')"
   ]
  },
  {
   "cell_type": "markdown",
   "metadata": {},
   "source": [
    "Question 12: Make a function which can take two radius of circles and find the areas of it and subtract smaller one from larger one and tell the remaining area of circle."
   ]
  },
  {
   "cell_type": "code",
   "execution_count": 33,
   "metadata": {},
   "outputs": [
    {
     "name": "stdout",
     "output_type": "stream",
     "text": [
      "942.4777960769379\n"
     ]
    }
   ],
   "source": [
    "from math import pi\n",
    "def aq(r,rr):\n",
    "    a = pi*(r**2)\n",
    "    aa = pi*(rr**2)\n",
    "    if a > aa:\n",
    "        fa = (aa - a)\n",
    "    else:\n",
    "        fa = (a - aa)\n",
    "    return abs(fa)\n",
    "print(aq(10,20))"
   ]
  },
  {
   "cell_type": "markdown",
   "metadata": {},
   "source": [
    "Question 13: Write a function that will take a string and calculate number of Upper case letters and lower case letters."
   ]
  },
  {
   "cell_type": "code",
   "execution_count": 34,
   "metadata": {},
   "outputs": [
    {
     "name": "stdout",
     "output_type": "stream",
     "text": [
      "4 1\n",
      "None\n"
     ]
    }
   ],
   "source": [
    "def op(s):\n",
    "    a = 0\n",
    "    b = 0\n",
    "    u = 'ABCDEFGHIJKLMNOPQRSTUVWXYZ'\n",
    "    l = 'abcdefghijklmnopqrstuvwxyz'\n",
    "    for i in s:\n",
    "        if i in u:\n",
    "            a = a+1\n",
    "        if i in l:\n",
    "            b = b+1\n",
    "    print(b,a)\n",
    "print(op(\"Hamza\"))    "
   ]
  },
  {
   "cell_type": "markdown",
   "metadata": {},
   "source": [
    "Question 14: Write a function which will take length and breadth of two rectangles. Subtract the smaller rectangle from the larger rectangle and return the area left behind."
   ]
  },
  {
   "cell_type": "code",
   "execution_count": 36,
   "metadata": {},
   "outputs": [
    {
     "name": "stdout",
     "output_type": "stream",
     "text": [
      "74\n"
     ]
    }
   ],
   "source": [
    "def Zx(l,b,ll,bb):\n",
    "    a = l*b\n",
    "    aa = ll*bb\n",
    "    if a > aa:\n",
    "        fa = (aa - a)\n",
    "    else:\n",
    "        fa = (a - aa)\n",
    "    return abs(fa)\n",
    "print(Zx(3,2,8,10))"
   ]
  },
  {
   "cell_type": "markdown",
   "metadata": {},
   "source": [
    "Question 15: Create a function that can add the fractions in series such as 1 to 8 = 1/8+1/7+1/6+1/5 …… ½ and return the result in fraction not in decimal."
   ]
  },
  {
   "cell_type": "code",
   "execution_count": 37,
   "metadata": {},
   "outputs": [
    {
     "name": "stdout",
     "output_type": "stream",
     "text": [
      "145/12\n"
     ]
    }
   ],
   "source": [
    "from fractions import Fraction\n",
    "i = 1 \n",
    "f = 5\n",
    "ff = 10\n",
    "for ii in range(i,f):\n",
    "    ff = ff + Fraction(1,ii)\n",
    "print(ff)"
   ]
  },
  {
   "cell_type": "markdown",
   "metadata": {},
   "source": [
    "Question 17: Write a function which will take a list of fruits names. The function will return how many alphabets are repetitive in the names of fruits and how many are unique letters."
   ]
  },
  {
   "cell_type": "code",
   "execution_count": 40,
   "metadata": {},
   "outputs": [
    {
     "name": "stdout",
     "output_type": "stream",
     "text": [
      "rep 5\n"
     ]
    }
   ],
   "source": [
    "s = 'Banana'\n",
    "ss = \"\"\n",
    "xx = 0\n",
    "for i in s:\n",
    "    n = s.count(i)\n",
    "    if n > 1:\n",
    "        xx = xx + 1\n",
    "print('rep',xx)"
   ]
  },
  {
   "cell_type": "markdown",
   "metadata": {},
   "source": [
    "Question 18: Write a function that can take square length and radius of circle. Find the area of both and subtract the smallest shape from largest one and return the remaining shape area."
   ]
  },
  {
   "cell_type": "code",
   "execution_count": 42,
   "metadata": {},
   "outputs": [
    {
     "name": "stdout",
     "output_type": "stream",
     "text": [
      "16\n",
      "201.088\n",
      "185.088\n"
     ]
    }
   ],
   "source": [
    "def hg(l,r):\n",
    "    sa = l*l\n",
    "    ca = 3.142*(r**2)\n",
    "    print(sa)\n",
    "    print(ca)\n",
    "    if sa > ca:\n",
    "        fa = (ca - sa)\n",
    "    else:\n",
    "        fa = (sa - ca)\n",
    "    return abs(fa)  \n",
    "print(hg(4,8))"
   ]
  },
  {
   "cell_type": "markdown",
   "metadata": {},
   "source": [
    "Question 16: Write a function which will take height and base for a triangle and make it 5% deferment calculate area.Subtract both and find the remaining area."
   ]
  },
  {
   "cell_type": "code",
   "execution_count": 1,
   "metadata": {},
   "outputs": [
    {
     "name": "stdout",
     "output_type": "stream",
     "text": [
      "Area of a rectangle is =  20.0 -95.0\n",
      "area of a rectangle is =  504.0 -95.0\n",
      "area left behind =  -484.0\n"
     ]
    }
   ],
   "source": [
    "def area(height,base,increment):\n",
    "    a=(height*base)/2\n",
    "    incr=5-100\n",
    "    percent_Increase = ((incr/100)*100)\n",
    "    print('Area of a rectangle is = ',a,percent_Increase)\n",
    "area (5,8,5)\n",
    "def area(height,base,increment):\n",
    "    a=(height*base)/2\n",
    "    incr=5-100\n",
    "    percent_Increase = ((incr/100)*100)\n",
    "    print('area of a rectangle is = ',a,percent_Increase)\n",
    "area(18,56,5)\n",
    "c=(20.0-504.0)\n",
    "print('area left behind = ' ,c)"
   ]
  }
 ],
 "metadata": {
  "kernelspec": {
   "display_name": "Python 3",
   "language": "python",
   "name": "python3"
  },
  "language_info": {
   "codemirror_mode": {
    "name": "ipython",
    "version": 3
   },
   "file_extension": ".py",
   "mimetype": "text/x-python",
   "name": "python",
   "nbconvert_exporter": "python",
   "pygments_lexer": "ipython3",
   "version": "3.7.3"
  }
 },
 "nbformat": 4,
 "nbformat_minor": 2
}
